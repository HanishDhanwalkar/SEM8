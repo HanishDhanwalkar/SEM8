{
 "cells": [
  {
   "cell_type": "code",
   "execution_count": null,
   "metadata": {},
   "outputs": [
    {
     "ename": "ModuleNotFoundError",
     "evalue": "No module named 'roboticstoolbox'",
     "output_type": "error",
     "traceback": [
      "\u001b[1;31m---------------------------------------------------------------------------\u001b[0m",
      "\u001b[1;31mModuleNotFoundError\u001b[0m                       Traceback (most recent call last)",
      "Cell \u001b[1;32mIn[1], line 1\u001b[0m\n\u001b[1;32m----> 1\u001b[0m \u001b[38;5;28;01mimport\u001b[39;00m \u001b[38;5;21;01mroboticstoolbox\u001b[39;00m \u001b[38;5;28;01mas\u001b[39;00m \u001b[38;5;21;01mrtb\u001b[39;00m\n\u001b[0;32m      2\u001b[0m \u001b[38;5;28;01mimport\u001b[39;00m \u001b[38;5;21;01mnumpy\u001b[39;00m \u001b[38;5;28;01mas\u001b[39;00m \u001b[38;5;21;01mnp\u001b[39;00m\n",
      "\u001b[1;31mModuleNotFoundError\u001b[0m: No module named 'roboticstoolbox'"
     ]
    }
   ],
   "source": [
    "import roboticstoolbox as rtb\n",
    "import numpy as np"
   ]
  },
  {
   "cell_type": "code",
   "execution_count": null,
   "metadata": {},
   "outputs": [],
   "source": [
    "\n",
    "# Define the DH parameters for your 6 DOF robotic arm\n",
    "# Convention: Modified DH parameters (Denavit-Hartenberg)\n",
    "\n",
    "# Link | a (m) | alpha (rad) | d (m) | theta (rad) | offset\n",
    "# -----|-------|-------------|-------|-------------|--------\n",
    "#  1   | a1    | alpha1      | d1    | theta1      | offset1\n",
    "#  2   | a2    | alpha2      | d2    | theta2      | offset2\n",
    "#  ... | ...   | ...         | ...   | ...         | ...\n",
    "#  6   | a6    | alpha6      | d6    | theta6      | offset6\n",
    "\n",
    "\n",
    "# Example DH parameters (replace with your actual values)\n",
    "# These are just example values, make sure to use your robot's specifications.\n",
    "# Note: Python's trigonometric functions use radians.\n",
    "\n",
    "a1 = 0.1  # Example: Link 1 length\n",
    "alpha1 = 0.0  # Example: Link 1 twist angle\n",
    "d1 = 0.2    # Example: Link 1 offset\n",
    "offset1 = 0.0 # Example: Link 1 joint offset (if any)\n",
    "\n",
    "a2 = 0.2  # Example: Link 2 length\n",
    "alpha2 = np.pi/2  # Example: Link 2 twist angle (90 degrees)\n",
    "d2 = 0.0    # Example: Link 2 offset\n",
    "offset2 = 0.0\n",
    "\n",
    "a3 = 0.15 # Example: Link 3 length\n",
    "alpha3 = 0.0  # Example: Link 3 twist angle\n",
    "d3 = 0.1    # Example: Link 3 offset\n",
    "offset3 = 0.0\n",
    "\n",
    "a4 = 0.2  # Example: Link 4 length\n",
    "alpha4 = np.pi/2  # Example: Link 4 twist angle (90 degrees)\n",
    "d4 = 0.0    # Example: Link 4 offset\n",
    "offset4 = 0.0\n",
    "\n",
    "a5 = 0.1  # Example: Link 5 length\n",
    "alpha5 = 0.0  # Example: Link 5 twist angle\n",
    "d5 = 0.1    # Example: Link 5 offset\n",
    "offset5 = 0.0\n",
    "\n",
    "a6 = 0.05  # Example: Link 6 length\n",
    "alpha6 = 0.0  # Example: Link 6 twist angle\n",
    "d6 = 0.0    # Example: Link 6 offset\n",
    "offset6 = 0.0\n",
    "\n",
    "\n",
    "# Create the DH matrix for each link.  Robotic Toolbox uses a specific order.\n",
    "#  [ a, alpha, d, theta, offset]\n",
    "\n",
    "L1 = rtb.Link(a=a1, alpha=alpha1, d=d1, qlim=[-np.pi, np.pi], offset=offset1) # qlim: joint limits (radians)\n",
    "L2 = rtb.Link(a=a2, alpha=alpha2, d=d2, qlim=[-np.pi, np.pi], offset=offset2)\n",
    "L3 = rtb.Link(a=a3, alpha=alpha3, d=d3, qlim=[-np.pi, np.pi], offset=offset3)\n",
    "L4 = rtb.Link(a=a4, alpha=alpha4, d=d4, qlim=[-np.pi, np.pi], offset=offset4)\n",
    "L5 = rtb.Link(a=a5, alpha=alpha5, d=d5, qlim=[-np.pi, np.pi], offset=offset5)\n",
    "L6 = rtb.Link(a=a6, alpha=alpha6, d=d6, qlim=[-np.pi, np.pi], offset=offset6)\n",
    "\n",
    "\n",
    "# Create the robot object.\n",
    "robot = rtb.DHRobot([L1, L2, L3, L4, L5, L6], name='My 6 DOF Robot')  # Give your robot a name\n",
    "\n",
    "# Display the robot's DH parameters.\n",
    "print(robot)\n",
    "\n",
    "# Example Usage:\n",
    "# You can now use the 'robot' object for various robotic tasks.\n",
    "\n",
    "# Forward Kinematics:\n",
    "q = [0, 0, 0, 0, 0, 0]  # Example joint angles (replace with your values)\n",
    "T = robot.fkine(q)  # Get the end-effector transformation matrix\n",
    "print(\"Forward Kinematics:\\n\", T)\n",
    "\n",
    "# Inverse Kinematics (more complex, often requires specific solvers):\n",
    "# ... (see Robotic Toolbox documentation for IK)\n",
    "\n",
    "# Trajectory generation, dynamics, etc.\n",
    "# ... (explore other features of the Robotic Toolbox)\n",
    "\n",
    "# Plot the robot\n",
    "robot.plot(q)\n",
    "\n",
    "\n",
    "# To visualize the robot: (requires spatialmath-python)\n",
    "# robot.plot(q)  # q is your joint angle vector"
   ]
  },
  {
   "cell_type": "code",
   "execution_count": 2,
   "metadata": {},
   "outputs": [],
   "source": [
    "import numpy as np"
   ]
  },
  {
   "cell_type": "code",
   "execution_count": 6,
   "metadata": {},
   "outputs": [
    {
     "name": "stdout",
     "output_type": "stream",
     "text": [
      "[array([0., 0., 0., 0., 0., 0.]), array([0.78539816, 0.        , 0.        , 0.        , 0.        ,\n",
      "       0.        ]), array([2.35619449, 0.        , 0.        , 0.        , 0.        ,\n",
      "       0.        ]), array([3.14159265, 0.        , 0.        , 0.        , 0.        ,\n",
      "       0.        ]), array([3.92699082, 0.        , 0.        , 0.        , 0.        ,\n",
      "       0.        ]), array([4.71238898, 0.        , 0.        , 0.        , 0.        ,\n",
      "       0.        ]), array([5.49778714, 0.        , 0.        , 0.        , 0.        ,\n",
      "       0.        ]), array([6.28318531, 0.        , 0.        , 0.        , 0.        ,\n",
      "       0.        ])]\n"
     ]
    }
   ],
   "source": [
    "cir = [0.0, np.pi/4, 3*np.pi/4, np.pi, 5*np.pi/4, 3*np.pi/2 ,7*np.pi/4 ,2*np.pi ,]\n",
    "\n",
    "print([np.array(np.array([x, 0.0 ,0.0, 0.0, 0.0, 0.0])) for x in cir])"
   ]
  },
  {
   "cell_type": "code",
   "execution_count": 7,
   "metadata": {},
   "outputs": [
    {
     "data": {
      "text/plain": [
       "[array([0., 0., 0., 0., 0., 0.]),\n",
       " array([0.78539816, 0.        , 0.        , 0.        , 0.        ,\n",
       "        0.        ]),\n",
       " array([2.35619449, 0.        , 0.        , 0.        , 0.        ,\n",
       "        0.        ]),\n",
       " array([3.14159265, 0.        , 0.        , 0.        , 0.        ,\n",
       "        0.        ]),\n",
       " array([3.92699082, 0.        , 0.        , 0.        , 0.        ,\n",
       "        0.        ]),\n",
       " array([4.71238898, 0.        , 0.        , 0.        , 0.        ,\n",
       "        0.        ]),\n",
       " array([5.49778714, 0.        , 0.        , 0.        , 0.        ,\n",
       "        0.        ]),\n",
       " array([6.28318531, 0.        , 0.        , 0.        , 0.        ,\n",
       "        0.        ])]"
      ]
     },
     "execution_count": 7,
     "metadata": {},
     "output_type": "execute_result"
    }
   ],
   "source": [
    "tethas = [np.array([x, 0.0 ,0.0, 0.0, 0.0, 0.0]) for x in cir]\n",
    "\n",
    "tethas"
   ]
  },
  {
   "cell_type": "code",
   "execution_count": null,
   "metadata": {},
   "outputs": [],
   "source": []
  }
 ],
 "metadata": {
  "kernelspec": {
   "display_name": "Python 3",
   "language": "python",
   "name": "python3"
  },
  "language_info": {
   "codemirror_mode": {
    "name": "ipython",
    "version": 3
   },
   "file_extension": ".py",
   "mimetype": "text/x-python",
   "name": "python",
   "nbconvert_exporter": "python",
   "pygments_lexer": "ipython3",
   "version": "3.10.12"
  }
 },
 "nbformat": 4,
 "nbformat_minor": 2
}
